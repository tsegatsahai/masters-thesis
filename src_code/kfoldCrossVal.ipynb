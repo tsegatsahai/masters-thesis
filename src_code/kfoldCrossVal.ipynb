{
 "cells": [
  {
   "cell_type": "code",
   "execution_count": 1,
   "id": "positive-fetish",
   "metadata": {},
   "outputs": [
    {
     "data": {
      "text/plain": [
       "<function tensorflow.python.keras.utils.np_utils.to_categorical(y, num_classes=None, dtype='float32')>"
      ]
     },
     "execution_count": 1,
     "metadata": {},
     "output_type": "execute_result"
    }
   ],
   "source": [
    "import numpy as np\n",
    "import pandas as pd\n",
    "import os\n",
    "from sklearn.model_selection import KFold, StratifiedKFold\n",
    "import tensorflow as tf\n",
    "#from tensorflow.keras.preprocessing.image import ImageDataGenerator\n",
    "import keras\n",
    "from keras_preprocessing.image import ImageDataGenerator\n",
    "from keras.models import Sequential\n",
    "from keras.layers import Activation, Dropout, Flatten, Dense, Conv2D, MaxPooling2D\n",
    "tf.keras.utils.to_categorical"
   ]
  },
  {
   "cell_type": "code",
   "execution_count": 2,
   "id": "mobile-england",
   "metadata": {},
   "outputs": [],
   "source": [
    "train_data = pd.read_csv('classification.csv', dtype=str)\n",
    "#data = pd.read_csv('./Hand_Annotations_2.csv',dtype=str,names=colnames\n",
    "Y = train_data[['label']]\n",
    "\n",
    "kf = KFold(n_splits = 10)\n",
    "                         \n",
    "skf = StratifiedKFold(n_splits = 10, random_state = 7, shuffle = True)\n",
    "image_shape = (150,150,3)"
   ]
  },
  {
   "cell_type": "code",
   "execution_count": 3,
   "id": "emotional-press",
   "metadata": {},
   "outputs": [],
   "source": [
    "idg = ImageDataGenerator(#width_shift_range=0.1,\n",
    "                         #height_shift_range=0.1,\n",
    "                         #zoom_range=0.3,\n",
    "                         fill_mode='nearest',\n",
    "                         horizontal_flip = True)\n",
    "                         #rescale=1./255)"
   ]
  },
  {
   "cell_type": "code",
   "execution_count": 4,
   "id": "impaired-yeast",
   "metadata": {},
   "outputs": [],
   "source": [
    "def get_model_name(k):\n",
    "    return 'model_'+str(k)+'.h5'"
   ]
  },
  {
   "cell_type": "code",
   "execution_count": 5,
   "id": "diagnostic-documentary",
   "metadata": {},
   "outputs": [],
   "source": [
    "#model = tf.keras.models.Sequential()\n",
    "model = Sequential()\n",
    "\n",
    "model.add(Conv2D(filters=32, kernel_size=(3,3),input_shape=(150,150,3), activation='relu',))\n",
    "model.add(MaxPooling2D(pool_size=(2, 2)))\n",
    "\n",
    "model.add(Conv2D(filters=64, kernel_size=(3,3),input_shape=(150,150,3), activation='relu',))\n",
    "model.add(MaxPooling2D(pool_size=(2, 2)))\n",
    "\n",
    "model.add(Conv2D(filters=64, kernel_size=(3,3),input_shape=(150,150,3), activation='relu',))\n",
    "model.add(MaxPooling2D(pool_size=(2, 2)))\n",
    "\n",
    "\n",
    "model.add(Flatten())\n",
    "\n",
    "\n",
    "model.add(Dense(128))\n",
    "model.add(Activation('relu'))\n",
    "\n",
    "# Dropouts help reduce overfitting by randomly turning neurons off during training.\n",
    "# Here we say randomly turn off 50% of neurons.\n",
    "model.add(Dropout(0.5))\n",
    "\n",
    "# Last layer, not binary!\n",
    "model.add(Dense(3))\n",
    "model.add(Activation('sigmoid'))\n",
    "\n",
    "model.compile(loss='categorical_crossentropy', #not binary for the poses\n",
    "              optimizer='rmsprop',\n",
    "              metrics=['accuracy'])"
   ]
  },
  {
   "cell_type": "code",
   "execution_count": 8,
   "id": "931475a5",
   "metadata": {},
   "outputs": [],
   "source": [
    "import warnings\n",
    "warnings.filterwarnings('ignore')"
   ]
  },
  {
   "cell_type": "code",
   "execution_count": 11,
   "id": "developmental-oxford",
   "metadata": {},
   "outputs": [
    {
     "name": "stdout",
     "output_type": "stream",
     "text": [
      "Found 636 validated image filenames belonging to 3 classes.\n",
      "Found 71 validated image filenames belonging to 3 classes.\n",
      "Epoch 1/10\n",
      " 40/150 [=======>......................] - ETA: 19s - loss: 1.7219 - accuracy: 0.7956WARNING:tensorflow:Your input ran out of data; interrupting training. Make sure that your dataset or generator can generate at least `steps_per_epoch * epochs` batches (in this case, 1500 batches). You may need to use the repeat() function when building your dataset.\n",
      "150/150 [==============================] - 8s 49ms/step - loss: 1.7219 - accuracy: 0.7956 - val_loss: 0.7753 - val_accuracy: 0.7465\n",
      "\n",
      "Epoch 00001: val_accuracy improved from -inf to 0.74648, saving model to kfoldModels/model_1.h5\n",
      "5/5 [==============================] - 0s 35ms/step - loss: 0.6350 - accuracy: 0.7746\n",
      "Found 636 validated image filenames belonging to 3 classes.\n",
      "Found 71 validated image filenames belonging to 3 classes.\n",
      "Epoch 1/10\n",
      " 40/150 [=======>......................] - ETA: 19s - loss: 0.6730 - accuracy: 0.8491WARNING:tensorflow:Your input ran out of data; interrupting training. Make sure that your dataset or generator can generate at least `steps_per_epoch * epochs` batches (in this case, 1500 batches). You may need to use the repeat() function when building your dataset.\n",
      "150/150 [==============================] - 8s 48ms/step - loss: 0.6730 - accuracy: 0.8491 - val_loss: 0.2785 - val_accuracy: 0.9577\n",
      "\n",
      "Epoch 00001: val_accuracy improved from -inf to 0.95775, saving model to kfoldModels/model_2.h5\n",
      "5/5 [==============================] - 0s 34ms/step - loss: 0.3464 - accuracy: 0.9296\n",
      "Found 636 validated image filenames belonging to 3 classes.\n",
      "Found 71 validated image filenames belonging to 3 classes.\n",
      "Epoch 1/10\n",
      " 40/150 [=======>......................] - ETA: 19s - loss: 0.7771 - accuracy: 0.8632WARNING:tensorflow:Your input ran out of data; interrupting training. Make sure that your dataset or generator can generate at least `steps_per_epoch * epochs` batches (in this case, 1500 batches). You may need to use the repeat() function when building your dataset.\n",
      "150/150 [==============================] - 8s 48ms/step - loss: 0.7771 - accuracy: 0.8632 - val_loss: 1.0709 - val_accuracy: 0.6761\n",
      "\n",
      "Epoch 00001: val_accuracy improved from -inf to 0.67606, saving model to kfoldModels/model_3.h5\n",
      "5/5 [==============================] - 0s 41ms/step - loss: 0.8333 - accuracy: 0.7606\n",
      "Found 636 validated image filenames belonging to 3 classes.\n",
      "Found 71 validated image filenames belonging to 3 classes.\n",
      "Epoch 1/10\n",
      " 40/150 [=======>......................] - ETA: 18s - loss: 0.5060 - accuracy: 0.9088WARNING:tensorflow:Your input ran out of data; interrupting training. Make sure that your dataset or generator can generate at least `steps_per_epoch * epochs` batches (in this case, 1500 batches). You may need to use the repeat() function when building your dataset.\n",
      "150/150 [==============================] - 8s 47ms/step - loss: 0.5060 - accuracy: 0.9088 - val_loss: 0.3289 - val_accuracy: 0.8732\n",
      "\n",
      "Epoch 00001: val_accuracy improved from -inf to 0.87324, saving model to kfoldModels/model_4.h5\n",
      "5/5 [==============================] - 0s 34ms/step - loss: 0.2124 - accuracy: 0.9014\n",
      "Found 636 validated image filenames belonging to 3 classes.\n",
      "Found 71 validated image filenames belonging to 3 classes.\n",
      "Epoch 1/10\n",
      " 40/150 [=======>......................] - ETA: 20s - loss: 0.3699 - accuracy: 0.9230WARNING:tensorflow:Your input ran out of data; interrupting training. Make sure that your dataset or generator can generate at least `steps_per_epoch * epochs` batches (in this case, 1500 batches). You may need to use the repeat() function when building your dataset.\n",
      "150/150 [==============================] - 8s 50ms/step - loss: 0.3699 - accuracy: 0.9230 - val_loss: 0.0453 - val_accuracy: 0.9718\n",
      "\n",
      "Epoch 00001: val_accuracy improved from -inf to 0.97183, saving model to kfoldModels/model_5.h5\n",
      "5/5 [==============================] - 0s 39ms/step - loss: 0.0220 - accuracy: 0.9859\n",
      "Found 636 validated image filenames belonging to 3 classes.\n",
      "Found 71 validated image filenames belonging to 3 classes.\n",
      "Epoch 1/10\n",
      " 40/150 [=======>......................] - ETA: 19s - loss: 0.5185 - accuracy: 0.9151WARNING:tensorflow:Your input ran out of data; interrupting training. Make sure that your dataset or generator can generate at least `steps_per_epoch * epochs` batches (in this case, 1500 batches). You may need to use the repeat() function when building your dataset.\n",
      "150/150 [==============================] - 8s 49ms/step - loss: 0.5185 - accuracy: 0.9151 - val_loss: 0.0135 - val_accuracy: 1.0000\n",
      "\n",
      "Epoch 00001: val_accuracy improved from -inf to 1.00000, saving model to kfoldModels/model_6.h5\n",
      "5/5 [==============================] - 0s 35ms/step - loss: 0.0435 - accuracy: 0.9718\n",
      "Found 636 validated image filenames belonging to 3 classes.\n",
      "Found 71 validated image filenames belonging to 3 classes.\n",
      "Epoch 1/10\n",
      " 40/150 [=======>......................] - ETA: 19s - loss: 0.4019 - accuracy: 0.9450WARNING:tensorflow:Your input ran out of data; interrupting training. Make sure that your dataset or generator can generate at least `steps_per_epoch * epochs` batches (in this case, 1500 batches). You may need to use the repeat() function when building your dataset.\n",
      "150/150 [==============================] - 8s 48ms/step - loss: 0.4019 - accuracy: 0.9450 - val_loss: 0.3338 - val_accuracy: 0.9437\n",
      "\n",
      "Epoch 00001: val_accuracy improved from -inf to 0.94366, saving model to kfoldModels/model_7.h5\n",
      "5/5 [==============================] - 0s 34ms/step - loss: 0.0707 - accuracy: 0.9859\n",
      "Found 637 validated image filenames belonging to 3 classes.\n",
      "Found 70 validated image filenames belonging to 3 classes.\n",
      "Epoch 1/10\n",
      " 40/150 [=======>......................] - ETA: 19s - loss: 0.1846 - accuracy: 0.9560WARNING:tensorflow:Your input ran out of data; interrupting training. Make sure that your dataset or generator can generate at least `steps_per_epoch * epochs` batches (in this case, 1500 batches). You may need to use the repeat() function when building your dataset.\n",
      "150/150 [==============================] - 8s 49ms/step - loss: 0.1846 - accuracy: 0.9560 - val_loss: 0.0364 - val_accuracy: 0.9857\n",
      "\n",
      "Epoch 00001: val_accuracy improved from -inf to 0.98571, saving model to kfoldModels/model_8.h5\n",
      "5/5 [==============================] - 0s 36ms/step - loss: 0.1156 - accuracy: 0.9714\n",
      "Found 637 validated image filenames belonging to 3 classes.\n",
      "Found 70 validated image filenames belonging to 3 classes.\n",
      "Epoch 1/10\n",
      " 40/150 [=======>......................] - ETA: 19s - loss: 0.1610 - accuracy: 0.9639WARNING:tensorflow:Your input ran out of data; interrupting training. Make sure that your dataset or generator can generate at least `steps_per_epoch * epochs` batches (in this case, 1500 batches). You may need to use the repeat() function when building your dataset.\n",
      "150/150 [==============================] - 8s 49ms/step - loss: 0.1610 - accuracy: 0.9639 - val_loss: 0.0566 - val_accuracy: 0.9857\n",
      "\n",
      "Epoch 00001: val_accuracy improved from -inf to 0.98571, saving model to kfoldModels/model_9.h5\n",
      "5/5 [==============================] - 0s 38ms/step - loss: 0.2211 - accuracy: 0.9714\n",
      "Found 637 validated image filenames belonging to 3 classes.\n",
      "Found 70 validated image filenames belonging to 3 classes.\n",
      "Epoch 1/10\n",
      " 40/150 [=======>......................] - ETA: 20s - loss: 0.2615 - accuracy: 0.9576WARNING:tensorflow:Your input ran out of data; interrupting training. Make sure that your dataset or generator can generate at least `steps_per_epoch * epochs` batches (in this case, 1500 batches). You may need to use the repeat() function when building your dataset.\n",
      "150/150 [==============================] - 8s 50ms/step - loss: 0.2615 - accuracy: 0.9576 - val_loss: 0.0026 - val_accuracy: 1.0000\n",
      "\n",
      "Epoch 00001: val_accuracy improved from -inf to 1.00000, saving model to kfoldModels/model_10.h5\n",
      "5/5 [==============================] - 0s 34ms/step - loss: 0.0292 - accuracy: 0.9857\n"
     ]
    }
   ],
   "source": [
    "VALIDATION_ACCURACY = []\n",
    "VALIDATION_LOSS = []\n",
    "\n",
    "save_dir = 'kfoldModels/'\n",
    "fold_var = 1\n",
    "\n",
    "for train_index, val_index in kf.split(np.zeros(707),Y):\n",
    "    training_data = train_data.iloc[train_index]\n",
    "    validation_data = train_data.iloc[val_index]\n",
    "\n",
    "    train_data_generator = idg.flow_from_dataframe(training_data, target_size=image_shape[:2],\n",
    "                               batch_size = 16,\n",
    "                               x_col = \"filename\", y_col = \"label\",\n",
    "                               class_mode = \"categorical\", shuffle = True)\n",
    "    valid_data_generator  = idg.flow_from_dataframe(validation_data, target_size=image_shape[:2],\n",
    "                            batch_size = 16,\n",
    "                            x_col = \"filename\", y_col = \"label\",\n",
    "                            class_mode = \"categorical\", shuffle = True)\n",
    "    \n",
    "  \n",
    "\n",
    "    # CREATE NEW MODEL\n",
    "    #model = create_new_model()\n",
    "\n",
    "    # COMPILE NEW MODEL\n",
    "    model.compile(loss='categorical_crossentropy',\n",
    "              optimizer='rmsprop',\n",
    "              metrics=['accuracy'])\n",
    "\n",
    "    # CREATE CALLBACKS\n",
    "    checkpoint = tf.keras.callbacks.ModelCheckpoint(save_dir+get_model_name(fold_var), \n",
    "                            monitor='val_accuracy', verbose=1, \n",
    "                            save_best_only=True, mode='max')\n",
    "    callbacks_list = [checkpoint]\n",
    "    # There can be other callbacks, but just showing one because it involves the model name\n",
    "    # This saves the best model\n",
    "    # FIT THE MODEL\n",
    "    history = model.fit(train_data_generator,\n",
    "                epochs=10,\n",
    "                steps_per_epoch=150,\n",
    "                callbacks=callbacks_list,\n",
    "                validation_data=valid_data_generator)\n",
    "    #PLOT HISTORY\n",
    "\n",
    "    # LOAD BEST MODEL to evaluate the performance of the model\n",
    "    model.load_weights(\"kfoldModels/model_\"+str(fold_var)+\".h5\")\n",
    "\n",
    "    results = model.evaluate(valid_data_generator)\n",
    "    results = dict(zip(model.metrics_names,results))\n",
    "\n",
    "    VALIDATION_ACCURACY.append(results['accuracy'])\n",
    "    VALIDATION_LOSS.append(results['loss'])\n",
    "\n",
    "    tf.keras.backend.clear_session()\n",
    "\n",
    "    fold_var += 1\n",
    "\n"
   ]
  },
  {
   "cell_type": "code",
   "execution_count": 12,
   "id": "centered-estate",
   "metadata": {},
   "outputs": [
    {
     "data": {
      "text/plain": [
       "[0.7746478915214539,\n",
       " 0.9295774698257446,\n",
       " 0.7605633735656738,\n",
       " 0.9014084339141846,\n",
       " 0.98591548204422,\n",
       " 0.9718309640884399,\n",
       " 0.98591548204422,\n",
       " 0.9714285731315613,\n",
       " 0.9714285731315613,\n",
       " 0.9857142567634583]"
      ]
     },
     "execution_count": 12,
     "metadata": {},
     "output_type": "execute_result"
    }
   ],
   "source": [
    "VALIDATION_ACCURACY"
   ]
  },
  {
   "cell_type": "code",
   "execution_count": null,
   "id": "eddbff3d",
   "metadata": {},
   "outputs": [],
   "source": []
  }
 ],
 "metadata": {
  "kernelspec": {
   "display_name": "Python 3",
   "language": "python",
   "name": "python3"
  },
  "language_info": {
   "codemirror_mode": {
    "name": "ipython",
    "version": 3
   },
   "file_extension": ".py",
   "mimetype": "text/x-python",
   "name": "python",
   "nbconvert_exporter": "python",
   "pygments_lexer": "ipython3",
   "version": "3.6.6"
  }
 },
 "nbformat": 4,
 "nbformat_minor": 5
}
