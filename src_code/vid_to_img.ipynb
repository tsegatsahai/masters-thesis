{
 "cells": [
  {
   "cell_type": "code",
   "execution_count": 1,
   "id": "rotary-array",
   "metadata": {},
   "outputs": [],
   "source": [
    "import cv2\n",
    "import os\n",
    "\n",
    "def video_to_frames(video, path_output_dir):\n",
    "    # extract frames from a video and save to directory as 'x.jpg' where \n",
    "    # x is the frame index\n",
    "    vidcap = cv2.VideoCapture(video)\n",
    "    count = 0\n",
    "    while vidcap.isOpened():\n",
    "        success, image = vidcap.read()\n",
    "        if success:\n",
    "            cv2.imwrite(os.path.join(path_output_dir, '%d.jpg') % count, image)\n",
    "            count += 1\n",
    "        else:\n",
    "            break\n",
    "    cv2.destroyAllWindows()\n",
    "    vidcap.release()"
   ]
  },
  {
   "cell_type": "code",
   "execution_count": 3,
   "id": "handmade-optics",
   "metadata": {},
   "outputs": [],
   "source": [
    "video_to_frames('../dataset/data23/cam8.mp4', '../training_images23/')\n"
   ]
  },
  {
   "cell_type": "code",
   "execution_count": null,
   "id": "helpful-conversation",
   "metadata": {},
   "outputs": [],
   "source": []
  }
 ],
 "metadata": {
  "kernelspec": {
   "display_name": "Python 3",
   "language": "python",
   "name": "python3"
  },
  "language_info": {
   "codemirror_mode": {
    "name": "ipython",
    "version": 3
   },
   "file_extension": ".py",
   "mimetype": "text/x-python",
   "name": "python",
   "nbconvert_exporter": "python",
   "pygments_lexer": "ipython3",
   "version": "3.6.6"
  }
 },
 "nbformat": 4,
 "nbformat_minor": 5
}
