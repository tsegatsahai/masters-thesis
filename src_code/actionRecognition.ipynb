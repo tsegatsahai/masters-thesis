{
 "cells": [
  {
   "cell_type": "code",
   "execution_count": 2,
   "metadata": {},
   "outputs": [],
   "source": [
    "import cv2"
   ]
  },
  {
   "cell_type": "markdown",
   "metadata": {},
   "source": [
    "## Preparing the Data for the model\n",
    "\n",
    "There is too much data for us to read all at once in memory. We can use some built in functions in Keras to automatically process the data, generate a flow of batches from a directory, and also manipulate the images.\n",
    "\n",
    "### Image Manipulation\n",
    "\n",
    "Its usually a good idea to manipulate the images with rotation, resizing, and scaling so the model becomes more robust to different images that our data set doesn't have. We can use the **ImageDataGenerator** to do this automatically for us. Check out the documentation for a full list of all the parameters you can use here!"
   ]
  },
  {
   "cell_type": "code",
   "execution_count": 3,
   "metadata": {},
   "outputs": [
    {
     "name": "stderr",
     "output_type": "stream",
     "text": [
      "Using TensorFlow backend.\n"
     ]
    }
   ],
   "source": [
    "from keras.preprocessing.image import ImageDataGenerator"
   ]
  },
  {
   "cell_type": "code",
   "execution_count": 4,
   "metadata": {},
   "outputs": [],
   "source": [
    "image_gen = ImageDataGenerator(#rotation_range=30, # rotate the image 30 degrees\n",
    "                               #width_shift_range=0.1, # Shift the pic width by a max of 10%\n",
    "                               #height_shift_range=0.1, # Shift the pic height by a max of 10%\n",
    "                               rescale=1/255, # Rescale the image by normalzing it.\n",
    "                               #shear_range=0.2, # Shear means cutting away part of the image (max 20%)\n",
    "                               #zoom_range=0.2, # Zoom in by 20% max\n",
    "                               horizontal_flip=True, # Allo horizontal flipping\n",
    "                               #fill_mode='nearest' # Fill in missing pixels with the nearest filled value\n",
    "                              )"
   ]
  },
  {
   "cell_type": "markdown",
   "metadata": {},
   "source": [
    "### Generating many manipulated images from a directory\n",
    "\n",
    "\n",
    "In order to use .flow_from_directory, you must organize the images in sub-directories. This is an absolute requirement, otherwise the method won't work. The directories should only contain images of one class, so one folder per class of images.\n",
    "\n",
    "Structure Needed:\n",
    "\n",
    "* Image Data Folder\n",
    "    * Class 1\n",
    "        * 0.jpg\n",
    "        * 1.jpg\n",
    "        * ...\n",
    "    * Class 2\n",
    "        * 0.jpg\n",
    "        * 1.jpg\n",
    "        * ...\n",
    "    * ...\n",
    "    * Class n"
   ]
  },
  {
   "cell_type": "code",
   "execution_count": 4,
   "metadata": {},
   "outputs": [
    {
     "name": "stdout",
     "output_type": "stream",
     "text": [
      "Found 294 images belonging to 4 classes.\n"
     ]
    },
    {
     "data": {
      "text/plain": [
       "<keras_preprocessing.image.DirectoryIterator at 0x7fb025397908>"
      ]
     },
     "execution_count": 4,
     "metadata": {},
     "output_type": "execute_result"
    }
   ],
   "source": [
    "#image_gen.flow_from_directory('positions/train')\n",
    "image_gen.flow_from_directory('actions/train')"
   ]
  },
  {
   "cell_type": "code",
   "execution_count": 5,
   "metadata": {},
   "outputs": [
    {
     "name": "stdout",
     "output_type": "stream",
     "text": [
      "Found 77 images belonging to 4 classes.\n"
     ]
    },
    {
     "data": {
      "text/plain": [
       "<keras_preprocessing.image.DirectoryIterator at 0x7fb02950aa90>"
      ]
     },
     "execution_count": 5,
     "metadata": {},
     "output_type": "execute_result"
    }
   ],
   "source": [
    "image_gen.flow_from_directory('actions/test')"
   ]
  },
  {
   "cell_type": "markdown",
   "metadata": {},
   "source": [
    "### Resizing Images\n",
    "\n",
    "Let's have Keras resize all the images to 150 pixels by 150 pixels once they've been manipulated."
   ]
  },
  {
   "cell_type": "code",
   "execution_count": 5,
   "metadata": {},
   "outputs": [],
   "source": [
    "# width,height,channels\n",
    "image_shape = (150,150,3)"
   ]
  },
  {
   "cell_type": "markdown",
   "metadata": {},
   "source": [
    "# Creating the Model"
   ]
  },
  {
   "cell_type": "code",
   "execution_count": 6,
   "metadata": {},
   "outputs": [],
   "source": [
    "from keras.models import Sequential\n",
    "from keras.layers import Activation, Dropout, Flatten, Dense, Conv2D, MaxPooling2D"
   ]
  },
  {
   "cell_type": "code",
   "execution_count": 8,
   "metadata": {},
   "outputs": [],
   "source": [
    "model = Sequential()\n",
    "\n",
    "model.add(Conv2D(filters=32, kernel_size=(3,3),input_shape=(150,150,3), activation='relu',))\n",
    "model.add(MaxPooling2D(pool_size=(2, 2)))\n",
    "\n",
    "model.add(Conv2D(filters=64, kernel_size=(3,3),input_shape=(150,150,3), activation='relu',))\n",
    "model.add(MaxPooling2D(pool_size=(2, 2)))\n",
    "\n",
    "model.add(Conv2D(filters=64, kernel_size=(3,3),input_shape=(150,150,3), activation='relu',))\n",
    "model.add(MaxPooling2D(pool_size=(2, 2)))\n",
    "\n",
    "\n",
    "model.add(Flatten())\n",
    "\n",
    "\n",
    "model.add(Dense(128))\n",
    "model.add(Activation('relu'))\n",
    "\n",
    "# Dropouts help reduce overfitting by randomly turning neurons off during training.\n",
    "# Here we say randomly turn off 50% of neurons.\n",
    "model.add(Dropout(0.5))\n",
    "\n",
    "# Last layer, not binary!\n",
    "model.add(Dense(4))\n",
    "model.add(Activation('sigmoid'))\n",
    "\n",
    "model.compile(loss='categorical_crossentropy', #not binary for the poses\n",
    "              optimizer='rmsprop',\n",
    "              metrics=['accuracy'])"
   ]
  },
  {
   "cell_type": "code",
   "execution_count": 9,
   "metadata": {},
   "outputs": [
    {
     "name": "stdout",
     "output_type": "stream",
     "text": [
      "_________________________________________________________________\n",
      "Layer (type)                 Output Shape              Param #   \n",
      "=================================================================\n",
      "conv2d_1 (Conv2D)            (None, 148, 148, 32)      896       \n",
      "_________________________________________________________________\n",
      "max_pooling2d_1 (MaxPooling2 (None, 74, 74, 32)        0         \n",
      "_________________________________________________________________\n",
      "conv2d_2 (Conv2D)            (None, 72, 72, 64)        18496     \n",
      "_________________________________________________________________\n",
      "max_pooling2d_2 (MaxPooling2 (None, 36, 36, 64)        0         \n",
      "_________________________________________________________________\n",
      "conv2d_3 (Conv2D)            (None, 34, 34, 64)        36928     \n",
      "_________________________________________________________________\n",
      "max_pooling2d_3 (MaxPooling2 (None, 17, 17, 64)        0         \n",
      "_________________________________________________________________\n",
      "flatten_1 (Flatten)          (None, 18496)             0         \n",
      "_________________________________________________________________\n",
      "dense_1 (Dense)              (None, 128)               2367616   \n",
      "_________________________________________________________________\n",
      "activation_1 (Activation)    (None, 128)               0         \n",
      "_________________________________________________________________\n",
      "dropout_1 (Dropout)          (None, 128)               0         \n",
      "_________________________________________________________________\n",
      "dense_2 (Dense)              (None, 4)                 516       \n",
      "_________________________________________________________________\n",
      "activation_2 (Activation)    (None, 4)                 0         \n",
      "=================================================================\n",
      "Total params: 2,424,452\n",
      "Trainable params: 2,424,452\n",
      "Non-trainable params: 0\n",
      "_________________________________________________________________\n"
     ]
    }
   ],
   "source": [
    "model.summary()"
   ]
  },
  {
   "cell_type": "markdown",
   "metadata": {},
   "source": [
    "### Training the Model"
   ]
  },
  {
   "cell_type": "code",
   "execution_count": 10,
   "metadata": {},
   "outputs": [
    {
     "name": "stdout",
     "output_type": "stream",
     "text": [
      "Found 294 images belonging to 4 classes.\n"
     ]
    }
   ],
   "source": [
    "batch_size = 16\n",
    "\n",
    "train_image_gen = image_gen.flow_from_directory('actions/train',\n",
    "                                               target_size=image_shape[:2],\n",
    "                                               batch_size=batch_size,\n",
    "                                               class_mode='categorical') #catagoricalnfor the poses"
   ]
  },
  {
   "cell_type": "code",
   "execution_count": 12,
   "metadata": {},
   "outputs": [
    {
     "ename": "AttributeError",
     "evalue": "'DirectoryIterator' object has no attribute 'shape'",
     "output_type": "error",
     "traceback": [
      "\u001b[0;31m---------------------------------------------------------------------------\u001b[0m",
      "\u001b[0;31mAttributeError\u001b[0m                            Traceback (most recent call last)",
      "\u001b[0;32m<ipython-input-12-479723ebb1d4>\u001b[0m in \u001b[0;36m<module>\u001b[0;34m\u001b[0m\n\u001b[1;32m      1\u001b[0m \u001b[0;31m#print(next(train_image_gen))\u001b[0m\u001b[0;34m\u001b[0m\u001b[0;34m\u001b[0m\u001b[0m\n\u001b[0;32m----> 2\u001b[0;31m \u001b[0mtrain_image_gen\u001b[0m\u001b[0;34m.\u001b[0m\u001b[0mshape\u001b[0m\u001b[0;34m\u001b[0m\u001b[0m\n\u001b[0m",
      "\u001b[0;31mAttributeError\u001b[0m: 'DirectoryIterator' object has no attribute 'shape'"
     ]
    }
   ],
   "source": [
    "#print(next(train_image_gen))\n",
    "#train_image_gen.shape"
   ]
  },
  {
   "cell_type": "code",
   "execution_count": 11,
   "metadata": {},
   "outputs": [
    {
     "name": "stdout",
     "output_type": "stream",
     "text": [
      "Found 77 images belonging to 4 classes.\n"
     ]
    }
   ],
   "source": [
    "test_image_gen = image_gen.flow_from_directory('actions/test',\n",
    "                                               target_size=image_shape[:2],\n",
    "                                               batch_size=batch_size,\n",
    "                                               class_mode='categorical')"
   ]
  },
  {
   "cell_type": "code",
   "execution_count": 12,
   "metadata": {},
   "outputs": [
    {
     "data": {
      "text/plain": [
       "{'fall': 0, 'sit': 1, 'stand': 2, 'walk': 3}"
      ]
     },
     "execution_count": 12,
     "metadata": {},
     "output_type": "execute_result"
    }
   ],
   "source": [
    "train_image_gen.class_indices"
   ]
  },
  {
   "cell_type": "code",
   "execution_count": 13,
   "metadata": {},
   "outputs": [],
   "source": [
    "import warnings\n",
    "warnings.filterwarnings('ignore')"
   ]
  },
  {
   "cell_type": "markdown",
   "metadata": {
    "scrolled": true
   },
   "source": []
  },
  {
   "cell_type": "code",
   "execution_count": 15,
   "metadata": {},
   "outputs": [
    {
     "name": "stdout",
     "output_type": "stream",
     "text": [
      "Epoch 1/10\n",
      "150/150 [==============================] - 97s 647ms/step - loss: 0.2215 - acc: 0.9299 - val_loss: 2.9458 - val_acc: 0.4286\n",
      "Epoch 2/10\n",
      "150/150 [==============================] - 96s 642ms/step - loss: 0.0769 - acc: 0.9772 - val_loss: 3.7612 - val_acc: 0.4545\n",
      "Epoch 3/10\n",
      "150/150 [==============================] - 93s 622ms/step - loss: 0.0353 - acc: 0.9892 - val_loss: 4.6552 - val_acc: 0.5325\n",
      "Epoch 4/10\n",
      "150/150 [==============================] - 104s 691ms/step - loss: 0.0233 - acc: 0.9925 - val_loss: 5.1413 - val_acc: 0.5325\n",
      "Epoch 5/10\n",
      "150/150 [==============================] - 99s 659ms/step - loss: 0.0272 - acc: 0.9937 - val_loss: 5.5583 - val_acc: 0.5195\n",
      "Epoch 6/10\n",
      "150/150 [==============================] - 96s 643ms/step - loss: 0.0099 - acc: 0.9979 - val_loss: 5.9112 - val_acc: 0.5195\n",
      "Epoch 7/10\n",
      "150/150 [==============================] - 97s 644ms/step - loss: 0.0167 - acc: 0.9971 - val_loss: 5.3903 - val_acc: 0.5584\n",
      "Epoch 8/10\n",
      "150/150 [==============================] - 97s 643ms/step - loss: 0.0059 - acc: 0.9983 - val_loss: 6.1311 - val_acc: 0.5325\n",
      "Epoch 9/10\n",
      "150/150 [==============================] - 94s 629ms/step - loss: 0.0172 - acc: 0.9958 - val_loss: 6.4711 - val_acc: 0.5455\n",
      "Epoch 10/10\n",
      "150/150 [==============================] - 94s 626ms/step - loss: 0.0163 - acc: 0.9968 - val_loss: 6.1810 - val_acc: 0.5455\n"
     ]
    }
   ],
   "source": [
    "results = model.fit_generator(train_image_gen,epochs=10,\n",
    "                              steps_per_epoch=150,\n",
    "                              validation_data=test_image_gen,\n",
    "                             validation_steps=12)"
   ]
  },
  {
   "cell_type": "code",
   "execution_count": 16,
   "metadata": {},
   "outputs": [],
   "source": [
    "model.save('model0.h5')"
   ]
  },
  {
   "cell_type": "markdown",
   "metadata": {},
   "source": [
    "# Evaluating the Model"
   ]
  },
  {
   "cell_type": "code",
   "execution_count": 17,
   "metadata": {},
   "outputs": [
    {
     "data": {
      "text/plain": [
       "[0.9288793102420609,\n",
       " 0.9771551723624098,\n",
       " 0.9888412017167382,\n",
       " 0.9922413793103448,\n",
       " 0.9935344827586207,\n",
       " 0.9978354978354979,\n",
       " 0.9969827586206896,\n",
       " 0.9982832618025751,\n",
       " 0.9956896551724138,\n",
       " 0.997413793052065]"
      ]
     },
     "execution_count": 17,
     "metadata": {},
     "output_type": "execute_result"
    }
   ],
   "source": [
    "results.history['acc']"
   ]
  },
  {
   "cell_type": "code",
   "execution_count": 19,
   "metadata": {},
   "outputs": [
    {
     "name": "stderr",
     "output_type": "stream",
     "text": [
      "Matplotlib is building the font cache; this may take a moment.\n"
     ]
    }
   ],
   "source": [
    "import matplotlib.pyplot as plt"
   ]
  },
  {
   "cell_type": "code",
   "execution_count": 20,
   "metadata": {},
   "outputs": [
    {
     "data": {
      "text/plain": [
       "[<matplotlib.lines.Line2D at 0x7faff14f0ac8>]"
      ]
     },
     "execution_count": 20,
     "metadata": {},
     "output_type": "execute_result"
    },
    {
     "data": {
      "image/png": "[encoded data removed]",
      "text/plain": [
       "<Figure size 432x288 with 1 Axes>"
      ]
     },
     "metadata": {
      "needs_background": "light"
     },
     "output_type": "display_data"
    }
   ],
   "source": [
    "plt.plot(results.history['acc'])"
   ]
  },
  {
   "cell_type": "code",
   "execution_count": 7,
   "metadata": {},
   "outputs": [],
   "source": [
    "from keras.models import load_model"
   ]
  },
  {
   "cell_type": "code",
   "execution_count": 8,
   "metadata": {},
   "outputs": [],
   "source": [
    "new_model = load_model('model0.h5')"
   ]
  },
  {
   "cell_type": "markdown",
   "metadata": {},
   "source": [
    "# Predicting on new images"
   ]
  },
  {
   "cell_type": "code",
   "execution_count": 21,
   "metadata": {},
   "outputs": [
    {
     "data": {
      "text/plain": [
       "{'fall': 0, 'sit': 1, 'stand': 2, 'walk': 3}"
      ]
     },
     "execution_count": 21,
     "metadata": {},
     "output_type": "execute_result"
    }
   ],
   "source": [
    "train_image_gen.class_indices"
   ]
  },
  {
   "cell_type": "code",
   "execution_count": 19,
   "metadata": {},
   "outputs": [
    {
     "data": {
      "text/plain": [
       "(802, 350, 3)"
      ]
     },
     "execution_count": 19,
     "metadata": {},
     "output_type": "execute_result"
    }
   ],
   "source": [
    "v = cv2.imread('POSE3.jpg')\n",
    "v.shape"
   ]
  },
  {
   "cell_type": "code",
   "execution_count": 9,
   "metadata": {},
   "outputs": [],
   "source": [
    "import numpy as np\n",
    "from keras.preprocessing import image\n",
    "\n",
    "pose_file = 'testing/fall4.jpg'\n",
    "\n",
    "pose = image.load_img(pose_file, target_size=(150, 150))\n",
    "\n",
    "pose = image.img_to_array(pose)\n",
    "\n",
    "pose = np.expand_dims(pose, axis=0) #so the network can think its a batch of one image\n",
    "pose = pose/255"
   ]
  },
  {
   "cell_type": "code",
   "execution_count": 54,
   "metadata": {},
   "outputs": [
    {
     "data": {
      "text/plain": [
       "array([2])"
      ]
     },
     "execution_count": 54,
     "metadata": {},
     "output_type": "execute_result"
    }
   ],
   "source": [
    "prediction_prob = new_model.predict(pose)\n",
    "new_model.predict_classes(pose) \n",
    "                               "
   ]
  },
  {
   "cell_type": "code",
   "execution_count": 22,
   "metadata": {},
   "outputs": [
    {
     "name": "stdout",
     "output_type": "stream",
     "text": [
      "[[2.3526377e-23 9.9999774e-01 4.9228033e-18 9.8221578e-12 1.7766470e-19\n",
      "  1.5273822e-19 3.9252950e-18 4.9790081e-18]]\n"
     ]
    }
   ],
   "source": [
    "# Output prediction\n",
    "print(prediction_prob) #how sure is it that the image belongs to the array it chose "
   ]
  },
  {
   "cell_type": "code",
   "execution_count": 10,
   "metadata": {},
   "outputs": [],
   "source": [
    "import numpy as np\n",
    "from keras.preprocessing import image\n",
    "#function to classify a pose\n",
    "def predictPose(imageName):\n",
    "    #resize the image since the model is trained with 150 by 150 images\n",
    "    pose = image.load_img(imageName, target_size=(150,150))\n",
    "    pose = image.img_to_array(pose)\n",
    "    pose = np.expand_dims(pose, axis=0)\n",
    "    pose = pose/255\n",
    "    \n",
    "    #actual classification\n",
    "    prediction_prob = new_model.predict(pose)\n",
    "    #returns which pose\n",
    "    poseNumber = new_model.predict_classes(pose)\n",
    "    #print(prediction_prob)\n",
    "    return poseNumber[0]+1\n",
    "    \n",
    "    "
   ]
  },
  {
   "cell_type": "code",
   "execution_count": 11,
   "metadata": {},
   "outputs": [],
   "source": [
    "import time\n",
    "import numpy as np\n",
    "from PIL import Image\n",
    "import os\n",
    "import sys"
   ]
  },
  {
   "cell_type": "code",
   "execution_count": 12,
   "metadata": {},
   "outputs": [],
   "source": [
    "def getAllImages(rootdir):\n",
    "    \"\"\"Gets all of the images in a folder and runs them through OpenPose.\n",
    "    You just need to run this function with the folder of pose images\"\"\"\n",
    "    path, dirs, files = next(os.walk(rootdir))\n",
    "    file_count = len(files) - 1\n",
    "    poseList = []\n",
    "    action = 0\n",
    "    actionList = []\n",
    "    i = 0\n",
    "    for subdir, dirs, files in os.walk(rootdir):\n",
    "        for file in files:\n",
    "            # print os.path.join(subdir, file)\n",
    "            filepath = subdir + os.sep + file\n",
    "\n",
    "            if filepath.endswith(\".jpg\"):\n",
    "                i += 1\n",
    "                #printProgressBar(i + 1, file_count, prefix='Progress:', suffix='Complete', length=50)\n",
    "                print(\"processing image \"+ str(i))\n",
    "                action = predictPose(filepath)\n",
    "                print(action)\n",
    "                actionList.append(action)\n",
    "    return actionList\n",
    "                "
   ]
  },
  {
   "cell_type": "code",
   "execution_count": 13,
   "metadata": {},
   "outputs": [
    {
     "name": "stdout",
     "output_type": "stream",
     "text": [
      "Time at start: 4.887580871582031e-05\n",
      "processing image 1\n",
      "2\n",
      "processing image 2\n",
      "3\n",
      "processing image 3\n",
      "4\n",
      "processing image 4\n",
      "3\n",
      "processing image 5\n",
      "3\n",
      "processing image 6\n",
      "4\n",
      "processing image 7\n",
      "1\n",
      "processing image 8\n",
      "1\n",
      "processing image 9\n",
      "1\n",
      "processing image 10\n",
      "2\n",
      "processing image 11\n",
      "1\n",
      "processing image 12\n",
      "4\n",
      "processing image 13\n",
      "1\n",
      "processing image 14\n",
      "2\n",
      "processing image 15\n",
      "4\n",
      "processing image 16\n",
      "3\n",
      "processing image 17\n",
      "1\n",
      "processing image 18\n",
      "2\n",
      "processing image 19\n",
      "1\n",
      "processing image 20\n",
      "4\n",
      "processing image 21\n",
      "2\n",
      "processing image 22\n",
      "2\n",
      "processing image 23\n",
      "1\n",
      "processing image 24\n",
      "1\n",
      "processing image 25\n",
      "1\n",
      "processing image 26\n",
      "1\n",
      "processing image 27\n",
      "2\n",
      "processing image 28\n",
      "2\n",
      "processing image 29\n",
      "4\n",
      "processing image 30\n",
      "4\n",
      "processing image 31\n",
      "1\n",
      "processing image 32\n",
      "1\n",
      "processing image 33\n",
      "4\n",
      "processing image 34\n",
      "2\n",
      "processing image 35\n",
      "1\n",
      "processing image 36\n",
      "1\n",
      "processing image 37\n",
      "3\n",
      "processing image 38\n",
      "3\n",
      "processing image 39\n",
      "1\n",
      "processing image 40\n",
      "2\n",
      "processing image 41\n",
      "2\n",
      "processing image 42\n",
      "4\n",
      "processing image 43\n",
      "2\n",
      "processing image 44\n",
      "2\n",
      "processing image 45\n",
      "2\n",
      "processing image 46\n",
      "2\n",
      "processing image 47\n",
      "2\n",
      "processing image 48\n",
      "2\n",
      "processing image 49\n",
      "1\n",
      "processing image 50\n",
      "4\n",
      "processing image 51\n",
      "3\n",
      "processing image 52\n",
      "4\n",
      "processing image 53\n",
      "4\n",
      "processing image 54\n",
      "1\n",
      "processing image 55\n",
      "1\n",
      "processing image 56\n",
      "3\n",
      "processing image 57\n",
      "1\n",
      "processing image 58\n",
      "1\n",
      "processing image 59\n",
      "4\n",
      "processing image 60\n",
      "4\n",
      "processing image 61\n",
      "1\n",
      "processing image 62\n",
      "4\n",
      "processing image 63\n",
      "2\n",
      "processing image 64\n",
      "1\n",
      "processing image 65\n",
      "4\n",
      "processing image 66\n",
      "2\n",
      "processing image 67\n",
      "1\n",
      "processing image 68\n",
      "1\n",
      "processing image 69\n",
      "1\n",
      "processing image 70\n",
      "1\n",
      "processing image 71\n",
      "1\n",
      "processing image 72\n",
      "3\n",
      "processing image 73\n",
      "2\n",
      "processing image 74\n",
      "1\n",
      "processing image 75\n",
      "2\n",
      "processing image 76\n",
      "2\n",
      "processing image 77\n",
      "1\n",
      "processing image 78\n",
      "1\n",
      "processing image 79\n",
      "2\n",
      "processing image 80\n",
      "1\n",
      "processing image 81\n",
      "3\n",
      "processing image 82\n",
      "1\n",
      "processing image 83\n",
      "1\n",
      "processing image 84\n",
      "1\n",
      "processing image 85\n",
      "1\n",
      "processing image 86\n",
      "3\n",
      "processing image 87\n",
      "1\n",
      "processing image 88\n",
      "2\n",
      "processing image 89\n",
      "2\n",
      "processing image 90\n",
      "4\n",
      "processing image 91\n",
      "2\n",
      "processing image 92\n",
      "1\n",
      "processing image 93\n",
      "1\n",
      "processing image 94\n",
      "1\n",
      "processing image 95\n",
      "1\n",
      "processing image 96\n",
      "1\n",
      "processing image 97\n",
      "1\n",
      "processing image 98\n",
      "4\n",
      "processing image 99\n",
      "2\n",
      "processing image 100\n",
      "3\n",
      "processing image 101\n",
      "1\n",
      "processing image 102\n",
      "1\n",
      "processing image 103\n",
      "1\n",
      "processing image 104\n",
      "4\n",
      "processing image 105\n",
      "2\n",
      "processing image 106\n",
      "1\n",
      "processing image 107\n",
      "1\n",
      "processing image 108\n",
      "1\n",
      "processing image 109\n",
      "1\n",
      "processing image 110\n",
      "1\n",
      "processing image 111\n",
      "2\n",
      "processing image 112\n",
      "2\n",
      "processing image 113\n",
      "1\n",
      "processing image 114\n",
      "1\n",
      "processing image 115\n",
      "2\n",
      "processing image 116\n",
      "1\n",
      "processing image 117\n",
      "1\n",
      "processing image 118\n",
      "1\n",
      "processing image 119\n",
      "4\n",
      "processing image 120\n",
      "2\n",
      "processing image 121\n",
      "1\n",
      "processing image 122\n",
      "2\n",
      "processing image 123\n",
      "2\n",
      "processing image 124\n",
      "1\n",
      "processing image 125\n",
      "1\n",
      "processing image 126\n",
      "2\n",
      "processing image 127\n",
      "4\n",
      "processing image 128\n",
      "2\n",
      "processing image 129\n",
      "2\n",
      "processing image 130\n",
      "1\n",
      "processing image 131\n",
      "1\n",
      "processing image 132\n",
      "1\n",
      "processing image 133\n",
      "1\n",
      "processing image 134\n",
      "1\n",
      "processing image 135\n",
      "1\n",
      "processing image 136\n",
      "4\n",
      "processing image 137\n",
      "1\n",
      "processing image 138\n",
      "1\n",
      "processing image 139\n",
      "2\n",
      "processing image 140\n",
      "1\n",
      "processing image 141\n",
      "1\n",
      "processing image 142\n",
      "1\n",
      "processing image 143\n",
      "1\n",
      "processing image 144\n",
      "2\n",
      "processing image 145\n",
      "1\n",
      "processing image 146\n",
      "4\n",
      "processing image 147\n",
      "3\n",
      "processing image 148\n",
      "1\n",
      "processing image 149\n",
      "1\n",
      "processing image 150\n",
      "1\n",
      "processing image 151\n",
      "3\n",
      "processing image 152\n",
      "1\n",
      "Time taken: 5.554337024688721\n"
     ]
    }
   ],
   "source": [
    "t = time.time()\n",
    "print(\"Time at start: \" + str((time.time() - t)))\n",
    "result = getAllImages('testing/fall')\n",
    "print(\"Time taken: \" + str((time.time() - t)))"
   ]
  },
  {
   "cell_type": "code",
   "execution_count": 20,
   "metadata": {},
   "outputs": [
    {
     "name": "stdout",
     "output_type": "stream",
     "text": [
      "fall: 76 50.0\n",
      "sit: 39 25.657894736842106\n",
      "stand: 14 9.210526315789473\n",
      "walk: 23 15.131578947368421\n"
     ]
    }
   ],
   "source": [
    "\n",
    "fall = 0\n",
    "walk = 0\n",
    "stand = 0\n",
    "sit = 0\n",
    "size = len(result)\n",
    "for i in result:\n",
    "    if i == 1:\n",
    "        fall += 1\n",
    "    elif i == 2:\n",
    "        sit += 1\n",
    "    elif i == 3:\n",
    "        stand += 1\n",
    "    elif i == 4:\n",
    "        walk += 1\n",
    "    else:\n",
    "        print(\"error\")\n",
    "        \n",
    "print('fall:', fall, (fall/size)*100)\n",
    "print('sit:', sit, (sit/size)*100)\n",
    "print('stand:', stand, (stand/size)*100)\n",
    "print('walk:', walk, (walk/size)*100)"
   ]
  },
  {
   "cell_type": "code",
   "execution_count": 26,
   "metadata": {},
   "outputs": [
    {
     "name": "stdout",
     "output_type": "stream",
     "text": [
      "2\n"
     ]
    }
   ],
   "source": [
    "#sample run\n",
    "print(predictPose('POSE22.jpg'))"
   ]
  },
  {
   "cell_type": "code",
   "execution_count": 41,
   "metadata": {},
   "outputs": [],
   "source": [
    "import os.path\n",
    "def detectAllPlayers():\n",
    "    path = 'players/player'\n",
    "    detected_poses = []\n",
    "    player = 0\n",
    "    pose = 0\n",
    "    #to check if the player exists\n",
    "    playerExists = os.path.isfile(path+str(player)+'.jpg') \n",
    "\n",
    "    while playerExists:\n",
    "        pose = predictPose(path+str(player)+'.jpg')\n",
    "        detected_poses.append(pose)\n",
    "        player +=1\n",
    "        playerExists = os.path.isfile(path+str(player)+'.jpg')   \n",
    "\n",
    "    return detected_poses"
   ]
  },
  {
   "cell_type": "code",
   "execution_count": 42,
   "metadata": {},
   "outputs": [
    {
     "name": "stdout",
     "output_type": "stream",
     "text": [
      "Player 0 is displaying pose 2\n",
      "Player 1 is displaying pose 6\n",
      "Player 2 is displaying pose 2\n"
     ]
    }
   ],
   "source": [
    "\n",
    "for player in range(len(detectAllPlayers())):\n",
    "    print(\"Player\", player, \"is displaying pose\", detected_poses[player])"
   ]
  },
  {
   "cell_type": "code",
   "execution_count": 47,
   "metadata": {},
   "outputs": [],
   "source": [
    "#game play\n",
    "def simonSays(correctPose):\n",
    "    playerPoses = detectAllPlayers()\n",
    "    for player in range(len(playerPoses)):\n",
    "        if playerPoses[player] == correctPose:\n",
    "            print(\"Player\", player, \"congrats! You've done the pose correctly\")\n",
    "        else:\n",
    "            print(\"Player\", player, \"uh-oh! You've done the pose incorrectly\")\n",
    "    \n"
   ]
  },
  {
   "cell_type": "code",
   "execution_count": 48,
   "metadata": {},
   "outputs": [
    {
     "name": "stdout",
     "output_type": "stream",
     "text": [
      "Player 0 congrats! You've done the pose correctly\n",
      "Player 1 uh-oh! You've done the pose incorrectly\n",
      "Player 2 congrats! You've done the pose correctly\n"
     ]
    }
   ],
   "source": [
    "simonSays(2)"
   ]
  },
  {
   "cell_type": "code",
   "execution_count": null,
   "metadata": {},
   "outputs": [],
   "source": []
  }
 ],
 "metadata": {
  "kernelspec": {
   "display_name": "Python 3",
   "language": "python",
   "name": "python3"
  },
  "language_info": {
   "codemirror_mode": {
    "name": "ipython",
    "version": 3
   },
   "file_extension": ".py",
   "mimetype": "text/x-python",
   "name": "python",
   "nbconvert_exporter": "python",
   "pygments_lexer": "ipython3",
   "version": "3.6.6"
  }
 },
 "nbformat": 4,
 "nbformat_minor": 2
}
