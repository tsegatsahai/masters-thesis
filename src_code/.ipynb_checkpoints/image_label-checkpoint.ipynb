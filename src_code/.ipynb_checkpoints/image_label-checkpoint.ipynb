{
 "cells": [
  {
   "cell_type": "code",
   "execution_count": 1,
   "id": "waiting-double",
   "metadata": {},
   "outputs": [],
   "source": [
    "#this code is used to (manually) label each image\n",
    "#options include sitting, standing, falling, walking\n",
    "\n",
    "\n",
    "#go through the directory (that has all the images) and view the images one by one (cv2.imshow)\n",
    "#get user input (me) of:\n",
    "    #1 - sitting\n",
    "    #2 - standing\n",
    "    #3 - walking\n",
    "    #4 - falling\n",
    "#based of off that response, place the image in a specific directory\n",
    "\n",
    "\n",
    "import cv2\n",
    "import os"
   ]
  },
  {
   "cell_type": "code",
   "execution_count": 2,
   "id": "plain-hughes",
   "metadata": {},
   "outputs": [],
   "source": [
    "#this functions validates and displays the image\n",
    "def validateImage(filePath):\n",
    "    image = cv2.imread(filePath)\n",
    "    #cv2.imshow(\"image_window\", image)\n",
    "    #cv2.waitKey(0)\n",
    "    #cv2.destroyAllWindows()\n",
    "    if image.size != 0:\n",
    "        print(\"processing image \" + filePath)\n",
    "        \n",
    "        #action = int(input(\"?: \"))\n",
    "        return image\n",
    "\n",
    "\n"
   ]
  },
  {
   "cell_type": "code",
   "execution_count": 3,
   "id": "primary-knowing",
   "metadata": {},
   "outputs": [
    {
     "name": "stdout",
     "output_type": "stream",
     "text": [
      "['1017', '1018', '1019', '1020', '1021', '1022', '1023', '1024', '1025', '1026', '1027', '1028', '1029', '1030', '1031', '1032', '1033', '1034', '1035', '1036', '1076', '1077', '1078', '1079']\n"
     ]
    }
   ],
   "source": []
  },
  {
   "cell_type": "code",
   "execution_count": 10,
   "id": "geographic-prediction",
   "metadata": {},
   "outputs": [],
   "source": [
    "def imageLabel(sitList, standList, walkList, fallList):\n",
    "    sitCount = 0\n",
    "    standCount = 0\n",
    "    walkCount = 0\n",
    "    fallCount = 0\n",
    "    for i in range(1360):\n",
    "        image = validateImage(str(i)+'.jpg')\n",
    "        i = str(i)\n",
    "        if i in sitList:\n",
    "        #if action == 1: #sitting\n",
    "            cv2.imwrite('../sitting/'+str(sitCount)+'.jpg', image)\n",
    "            print('sitting')\n",
    "            sitCount += 1\n",
    "        elif i in standList: #standing\n",
    "            cv2.imwrite('../standing/'+str(standCount)+'.jpg', image)\n",
    "            print('standing')\n",
    "            standCount += 1\n",
    "        elif i in walkList: #walking\n",
    "            cv2.imwrite('../walking/'+str(walkCount)+'.jpg', image)\n",
    "            print('walking')\n",
    "            walkCount += 1\n",
    "        elif i in fallList: #falling\n",
    "            cv2.imwrite('../falling/'+str(fallCount)+'.jpg', image)\n",
    "            print('falling')\n",
    "            fallCount += 1"
   ]
  },
  {
   "cell_type": "code",
   "execution_count": 4,
   "id": "stable-iceland",
   "metadata": {},
   "outputs": [
    {
     "name": "stdout",
     "output_type": "stream",
     "text": [
      "['1017', '1018', '1019', '1020', '1021', '1022', '1023', '1024', '1025', '1026', '1027', '1028', '1029', '1030', '1031', '1032', '1033', '1034', '1035', '1036', '1076', '1077', '1078', '1079']\n"
     ]
    }
   ],
   "source": [
    "#opening the files\n",
    "sitFile = open('sitting.txt', 'r')\n",
    "standFile = open('standing.txt', 'r')\n",
    "walkFile = open('walking.txt', 'r')\n",
    "fallFile = open('falling.txt', 'r')\n",
    "\n",
    "#reading from the files\n",
    "sitRead = sitFile.read()\n",
    "standRead = standFile.read()\n",
    "walkRead = walkFile.read()\n",
    "fallRead = fallFile.read()\n",
    "\n",
    "#splitting the contents by spaces and forming a list\n",
    "sitters = sitRead.split()\n",
    "standers = standRead.split()\n",
    "walkers = walkRead.split()\n",
    "fallers = fallRead.split()\n"
   ]
  },
  {
   "cell_type": "code",
   "execution_count": 5,
   "id": "invalid-score",
   "metadata": {},
   "outputs": [
    {
     "name": "stdout",
     "output_type": "stream",
     "text": [
      "True\n"
     ]
    }
   ],
   "source": []
  },
  {
   "cell_type": "code",
   "execution_count": null,
   "id": "empty-belize",
   "metadata": {},
   "outputs": [],
   "source": [
    "#closing the files\n",
    "sitFile.close()\n",
    "standFile.close()\n",
    "walkFile.close()\n",
    "fallFile.close()"
   ]
  }
 ],
 "metadata": {
  "kernelspec": {
   "display_name": "Python 3",
   "language": "python",
   "name": "python3"
  },
  "language_info": {
   "codemirror_mode": {
    "name": "ipython",
    "version": 3
   },
   "file_extension": ".py",
   "mimetype": "text/x-python",
   "name": "python",
   "nbconvert_exporter": "python",
   "pygments_lexer": "ipython3",
   "version": "3.6.6"
  }
 },
 "nbformat": 4,
 "nbformat_minor": 5
}
